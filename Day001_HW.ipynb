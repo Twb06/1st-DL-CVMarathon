{
 "cells": [
  {
   "cell_type": "code",
   "execution_count": 26,
   "metadata": {},
   "outputs": [],
   "source": [
    "from urllib.request import urlretrieve\n",
    "import os"
   ]
  },
  {
   "cell_type": "code",
   "execution_count": 27,
   "metadata": {},
   "outputs": [],
   "source": [
    "try:\n",
    "    os.makedirs( \"./Data\", exist_ok=True )\n",
    "    \n",
    "    urlretrieve(\"https://www.w3.org/TR/PNG/iso_8859-1.txt\", \"./Data/Homework.txt\")\n",
    "    \n",
    "except:\n",
    "    print(\"error!\")"
   ]
  },
  {
   "cell_type": "code",
   "execution_count": 28,
   "metadata": {},
   "outputs": [
    {
     "name": "stdout",
     "output_type": "stream",
     "text": [
      "True, the file Homework.txt is in Data dir\n"
     ]
    }
   ],
   "source": [
    "dirs = os.listdir(\"./Data\")\n",
    "\n",
    "if \"Homework.txt\" in dirs:\n",
    "    print(\"True, the file Homework.txt is in Data dir\")\n",
    "else:\n",
    "    print(\"False, the file Homework.txt is NOT in Data dir\")"
   ]
  },
  {
   "cell_type": "code",
   "execution_count": 29,
   "metadata": {},
   "outputs": [
    {
     "name": "stdout",
     "output_type": "stream",
     "text": [
      "Hello World\n"
     ]
    }
   ],
   "source": [
    "with open(\"./Data/Homework.txt\", \"w\") as f:\n",
    "    w_seq = \"Hello World\"\n",
    "    f.write(w_seq)\n",
    "\n",
    "try:\n",
    "    with open(\"./Data/Homework.txt\", \"r\") as f:\n",
    "        r_seq = f.read()\n",
    "        print(r_seq)\n",
    "        \n",
    "except EnvironmentError: # parent of IOError, OSError *and* WindowsError where available\n",
    "    pass    \n",
    "    "
   ]
  },
  {
   "cell_type": "code",
   "execution_count": 30,
   "metadata": {},
   "outputs": [
    {
     "name": "stdout",
     "output_type": "stream",
     "text": [
      "True, The word length of \"Hello World\" is the same as word length in Homework.txt\n"
     ]
    }
   ],
   "source": [
    "# 檢查 Homework.txt 檔案字數是否符合 Hello World 字數\n",
    "\n",
    "if len('Hello World') == len(r_seq):\n",
    "    print(\"True, The word length of \\\"Hello World\\\" is the same as word length in Homework.txt\")\n",
    "else:\n",
    "    print(\"False, The word length of \\\"Hello World\\\" is NOT the same as word length in Homework.txt\")"
   ]
  },
  {
   "cell_type": "code",
   "execution_count": null,
   "metadata": {},
   "outputs": [],
   "source": []
  }
 ],
 "metadata": {
  "kernelspec": {
   "display_name": "Python 3",
   "language": "python",
   "name": "python3"
  },
  "language_info": {
   "codemirror_mode": {
    "name": "ipython",
    "version": 3
   },
   "file_extension": ".py",
   "mimetype": "text/x-python",
   "name": "python",
   "nbconvert_exporter": "python",
   "pygments_lexer": "ipython3",
   "version": "3.6.5"
  }
 },
 "nbformat": 4,
 "nbformat_minor": 2
}
