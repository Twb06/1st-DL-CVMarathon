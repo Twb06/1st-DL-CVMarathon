{
 "cells": [
  {
   "cell_type": "markdown",
   "metadata": {},
   "source": [
    "# Python 下載XML檔案與解析\n",
    "\n",
    "\n",
    "* 了解 xml 檔案格式與內容\n",
    "* 能夠利用套件存取 xml 格式的檔案\n"
   ]
  },
  {
   "cell_type": "markdown",
   "metadata": {},
   "source": [
    "## 作業目標\n",
    "\n",
    "* 比較一下範例檔案中的「File I/O」與「xmltodict」讀出來的內容有什麼差異\n",
    "\n",
    "* 根據範例檔案的結果：\n",
    "    1. 請問高雄市有多少地區有溫度資料？\n",
    "    2. 請取出每一個地區所記錄的第一個時間點跟溫度\n",
    "    3. 請取出第一個地區所記錄的每一個時間點跟溫度"
   ]
  },
  {
   "cell_type": "markdown",
   "metadata": {},
   "source": [
    "### 比較一下範例檔案中的「File I/O」與「xmltodict」讀出來的內容有什麼差異\n"
   ]
  },
  {
   "cell_type": "code",
   "execution_count": 1,
   "metadata": {},
   "outputs": [
    {
     "data": {
      "text/plain": [
       "'\\nFile I/O會將所有內容包括標籤全部都顯示出來，難以閱讀；xmltodict會將內容轉換成dict格式，可透過標籤存取特定資料。\\n'"
      ]
     },
     "execution_count": 1,
     "metadata": {},
     "output_type": "execute_result"
    }
   ],
   "source": [
    "'''\n",
    "File I/O會將所有內容包括標籤全部都顯示出來，難以閱讀；xmltodict會將內容轉換成dict格式，可透過標籤存取特定資料。\n",
    "'''"
   ]
  },
  {
   "cell_type": "markdown",
   "metadata": {},
   "source": [
    "### 根據範例檔案的結果：\n",
    "\n",
    "1. 請問高雄市有多少地區有溫度資料？\n",
    "2. 請取出每一個地區所記錄的第一個時間點跟溫度\n",
    "3. 請取出第一個地區所記錄的每一個時間點跟溫度"
   ]
  },
  {
   "cell_type": "code",
   "execution_count": 4,
   "metadata": {},
   "outputs": [],
   "source": [
    "import urllib.request\n",
    "import zipfile\n",
    "\n",
    "res = \"http://opendata.cwb.gov.tw/govdownload?dataid=F-D0047-093&authorizationkey=rdec-key-123-45678-011121314\"\n",
    "urllib.request.urlretrieve(res, \"./data/example.zip\")\n",
    "\n",
    "f = zipfile.ZipFile('./data/example.zip')\n",
    "f.extractall('./data/03example')"
   ]
  },
  {
   "cell_type": "code",
   "execution_count": 31,
   "metadata": {},
   "outputs": [],
   "source": [
    "import os, sys\n",
    "\n",
    "dirs = os.listdir('./data/03example')\n",
    "\n",
    "#for file in dirs:\n",
    "#    print(file)"
   ]
  },
  {
   "cell_type": "code",
   "execution_count": 32,
   "metadata": {},
   "outputs": [],
   "source": [
    "import xmltodict\n",
    "\n",
    "with open(\"./data/03example/64_72hr_CH.xml\", \"r\", encoding=\"utf-8\") as fd:\n",
    "    data = dict(xmltodict.parse(fd.read()))\n",
    "\n",
    "#print(data)"
   ]
  },
  {
   "cell_type": "code",
   "execution_count": 35,
   "metadata": {},
   "outputs": [
    {
     "name": "stdout",
     "output_type": "stream",
     "text": [
      "38\n"
     ]
    }
   ],
   "source": [
    "# 1. 請問高雄市有多少地區有溫度資料？\n",
    "# data[\"cwbopendata\"][\"dataset\"][\"locations\"][\"location\"] is a list. Behind is an index for different district.\n",
    "# data[\"cwbopendata\"][\"dataset\"][\"locations\"][\"location\"][0][\"weatherElement\"] is a list.\n",
    "# Behind is an index for different weather element. 0, coresponding to elementName \"T\", stands for temperature.\n",
    "\n",
    "n_location_temp = 0\n",
    "n_location = len(data[\"cwbopendata\"][\"dataset\"][\"locations\"][\"location\"])\n",
    "\n",
    "for i in range(n_location):\n",
    "    if data[\"cwbopendata\"][\"dataset\"][\"locations\"][\"location\"][i][\"weatherElement\"][0][\"elementName\"] == \"T\":\n",
    "        n_location_temp += 1\n",
    "        \n",
    "print(n_location_temp)"
   ]
  },
  {
   "cell_type": "code",
   "execution_count": 47,
   "metadata": {},
   "outputs": [
    {
     "name": "stdout",
     "output_type": "stream",
     "text": [
      "{'鹽埕區': ['2020-02-08T00:00:00+08:00', '19'], '鼓山區': ['2020-02-08T00:00:00+08:00', '19'], '左營區': ['2020-02-08T00:00:00+08:00', '18'], '楠梓區': ['2020-02-08T00:00:00+08:00', '18'], '三民區': ['2020-02-08T00:00:00+08:00', '19'], '新興區': ['2020-02-08T00:00:00+08:00', '19'], '前金區': ['2020-02-08T00:00:00+08:00', '19'], '苓雅區': ['2020-02-08T00:00:00+08:00', '19'], '前鎮區': ['2020-02-08T00:00:00+08:00', '19'], '旗津區': ['2020-02-08T00:00:00+08:00', '19'], '小港區': ['2020-02-08T00:00:00+08:00', '20'], '鳳山區': ['2020-02-08T00:00:00+08:00', '19'], '林園區': ['2020-02-08T00:00:00+08:00', '20'], '大寮區': ['2020-02-08T00:00:00+08:00', '19'], '大樹區': ['2020-02-08T00:00:00+08:00', '18'], '大社區': ['2020-02-08T00:00:00+08:00', '18'], '仁武區': ['2020-02-08T00:00:00+08:00', '18'], '鳥松區': ['2020-02-08T00:00:00+08:00', '18'], '岡山區': ['2020-02-08T00:00:00+08:00', '18'], '橋頭區': ['2020-02-08T00:00:00+08:00', '18'], '燕巢區': ['2020-02-08T00:00:00+08:00', '18'], '田寮區': ['2020-02-08T00:00:00+08:00', '16'], '阿蓮區': ['2020-02-08T00:00:00+08:00', '16'], '路竹區': ['2020-02-08T00:00:00+08:00', '18'], '湖內區': ['2020-02-08T00:00:00+08:00', '17'], '茄萣區': ['2020-02-08T00:00:00+08:00', '17'], '永安區': ['2020-02-08T00:00:00+08:00', '17'], '彌陀區': ['2020-02-08T00:00:00+08:00', '17'], '梓官區': ['2020-02-08T00:00:00+08:00', '17'], '旗山區': ['2020-02-08T00:00:00+08:00', '17'], '美濃區': ['2020-02-08T00:00:00+08:00', '18'], '六龜區': ['2020-02-08T00:00:00+08:00', '17'], '甲仙區': ['2020-02-08T00:00:00+08:00', '15'], '杉林區': ['2020-02-08T00:00:00+08:00', '16'], '內門區': ['2020-02-08T00:00:00+08:00', '16'], '茂林區': ['2020-02-08T00:00:00+08:00', '17'], '桃源區': ['2020-02-08T00:00:00+08:00', '15'], '那瑪夏區': ['2020-02-08T00:00:00+08:00', '14']}\n",
      "38\n"
     ]
    }
   ],
   "source": [
    "# 2. 請取出每一個地區所記錄的第一個時間點跟溫度\n",
    "\n",
    "first_time_and_temp = dict()\n",
    "\n",
    "for i in range(n_location):\n",
    "    location_name = data[\"cwbopendata\"][\"dataset\"][\"locations\"][\"location\"][i][\"locationName\"]\n",
    "    data_time = data[\"cwbopendata\"][\"dataset\"][\"locations\"][\"location\"][i][\"weatherElement\"][0][\"time\"][0][\"dataTime\"]\n",
    "    data_value = data[\"cwbopendata\"][\"dataset\"][\"locations\"][\"location\"][i][\"weatherElement\"][0][\"time\"][0][\"elementValue\"][\"value\"]\n",
    "    \n",
    "    first_time_and_temp[location_name] = list([data_time, data_value])\n",
    "    \n",
    "print(first_time_and_temp)"
   ]
  },
  {
   "cell_type": "code",
   "execution_count": 49,
   "metadata": {},
   "outputs": [
    {
     "name": "stdout",
     "output_type": "stream",
     "text": [
      "{'2020-02-08T00:00:00+08:00': '19', '2020-02-08T03:00:00+08:00': '18', '2020-02-08T06:00:00+08:00': '17', '2020-02-08T09:00:00+08:00': '18', '2020-02-08T12:00:00+08:00': '22', '2020-02-08T15:00:00+08:00': '23', '2020-02-08T18:00:00+08:00': '21', '2020-02-08T21:00:00+08:00': '19', '2020-02-09T00:00:00+08:00': '18', '2020-02-09T03:00:00+08:00': '17', '2020-02-09T06:00:00+08:00': '16', '2020-02-09T09:00:00+08:00': '17', '2020-02-09T12:00:00+08:00': '21', '2020-02-09T15:00:00+08:00': '21', '2020-02-09T18:00:00+08:00': '20', '2020-02-09T21:00:00+08:00': '18', '2020-02-10T00:00:00+08:00': '17', '2020-02-10T03:00:00+08:00': '16', '2020-02-10T06:00:00+08:00': '16', '2020-02-10T09:00:00+08:00': '17', '2020-02-10T12:00:00+08:00': '22', '2020-02-10T15:00:00+08:00': '23', '2020-02-10T18:00:00+08:00': '22', '2020-02-10T21:00:00+08:00': '20'}\n"
     ]
    }
   ],
   "source": [
    "# 3. 請取出第一個地區所記錄的每一個時間點跟溫度\n",
    "\n",
    "all_time_and_temp_in_first_location = dict()\n",
    "n_temp_in_first_locaiton = len(data[\"cwbopendata\"][\"dataset\"][\"locations\"][\"location\"][i][\"weatherElement\"][0][\"time\"])\n",
    "\n",
    "for i in range(n_temp_in_first_locaiton):\n",
    "    data_time = data[\"cwbopendata\"][\"dataset\"][\"locations\"][\"location\"][0][\"weatherElement\"][0][\"time\"][i][\"dataTime\"]\n",
    "    data_value = data[\"cwbopendata\"][\"dataset\"][\"locations\"][\"location\"][0][\"weatherElement\"][0][\"time\"][i][\"elementValue\"][\"value\"]\n",
    "    \n",
    "    all_time_and_temp_in_first_location[data_time] = data_value\n",
    "    \n",
    "print(all_time_and_temp_in_first_location)"
   ]
  },
  {
   "cell_type": "code",
   "execution_count": null,
   "metadata": {},
   "outputs": [],
   "source": []
  }
 ],
 "metadata": {
  "kernelspec": {
   "display_name": "Python 3",
   "language": "python",
   "name": "python3"
  },
  "language_info": {
   "codemirror_mode": {
    "name": "ipython",
    "version": 3
   },
   "file_extension": ".py",
   "mimetype": "text/x-python",
   "name": "python",
   "nbconvert_exporter": "python",
   "pygments_lexer": "ipython3",
   "version": "3.8.1"
  }
 },
 "nbformat": 4,
 "nbformat_minor": 2
}
