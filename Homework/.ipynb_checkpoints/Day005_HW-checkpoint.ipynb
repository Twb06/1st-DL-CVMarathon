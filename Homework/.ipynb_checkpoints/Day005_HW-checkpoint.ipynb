{
 "cells": [
  {
   "cell_type": "markdown",
   "metadata": {},
   "source": [
    "# API 資料串接 - 以 Dcard API 實作範例\n",
    "\n",
    "* 了解 Dcard API 使用方式與回傳內容\n",
    "* 撰寫程式存取 API 且解析 JSON 格式資料\n"
   ]
  },
  {
   "cell_type": "markdown",
   "metadata": {},
   "source": [
    "## 作業目標\n",
    "\n",
    "* 請利用 API: https://www.dcard.tw/_api/forums/pet/posts?popular=true 回答下列問題：\n",
    "\n",
    "1. 這個 API 一次會回傳幾筆資料？每一筆資料包含哪些欄位？\n",
    "2. 取出每一筆資料的「標題」、「貼文時間」、「留言人數」、「按讚人數」\n",
    "3. 計算熱門/非熱門文章的「平均留言人數」與「平均按讚人數」"
   ]
  },
  {
   "cell_type": "code",
   "execution_count": 27,
   "metadata": {},
   "outputs": [
    {
     "name": "stdout",
     "output_type": "stream",
     "text": [
      "30\n",
      "dict_keys(['id', 'title', 'excerpt', 'anonymousSchool', 'anonymousDepartment', 'pinned', 'forumId', 'replyId', 'createdAt', 'updatedAt', 'commentCount', 'likeCount', 'withNickname', 'tags', 'topics', 'meta', 'forumName', 'forumAlias', 'gender', 'school', 'department', 'replyTitle', 'mediaMeta', 'reactions', 'hidden', 'customStyle', 'isSuspiciousAccount', 'layout', 'withImages', 'withVideos', 'media', 'reportReasonText', 'postAvatar'])\n"
     ]
    }
   ],
   "source": [
    "# 1. 這個 API 一次會回傳幾筆資料？每一筆資料包含哪些欄位？\n",
    "\n",
    "import requests\n",
    "import json\n",
    "\n",
    "r = requests.get(\"https://www.dcard.tw/_api/forums/pet/posts?popular=true\")\n",
    "respond = r.text\n",
    "\n",
    "data = json.loads(respond)\n",
    "\n",
    "#一次會回傳幾筆資料？\n",
    "print(len(data))\n",
    "\n",
    "#每一筆資料包含哪些欄位？\n",
    "print(data[0].keys())"
   ]
  },
  {
   "cell_type": "code",
   "execution_count": 28,
   "metadata": {},
   "outputs": [
    {
     "name": "stdout",
     "output_type": "stream",
     "text": [
      "[{'title': '貓貓大亂鬥🐱', 'createdAt': '2020-02-11T08:26:45.475Z', 'commentCount': 45, 'likeCount': 1236}, {'title': '你相信時間嗎？', 'createdAt': '2020-02-11T13:50:50.468Z', 'commentCount': 18, 'likeCount': 495}, {'title': '新買的貓窩，原來是偷情用的呀', 'createdAt': '2020-02-11T07:33:01.263Z', 'commentCount': 6, 'likeCount': 301}, {'title': '狗狗走丟了😭拜託頂上去🙏', 'createdAt': '2020-02-12T04:50:10.152Z', 'commentCount': 7, 'likeCount': 260}, {'title': '嚇死你', 'createdAt': '2020-02-11T08:06:00.703Z', 'commentCount': 15, 'likeCount': 140}, {'title': '基腿一隻🍗', 'createdAt': '2020-02-11T15:43:36.341Z', 'commentCount': 8, 'likeCount': 124}, {'title': '阿嬤養的貓？', 'createdAt': '2020-02-11T13:50:26.001Z', 'commentCount': 2, 'likeCount': 59}, {'title': '公園浪浪希望好心人可以帶回家😭😭😭', 'createdAt': '2020-02-11T14:19:20.119Z', 'commentCount': 1, 'likeCount': 35}, {'title': '每次吃飯壓力都好大', 'createdAt': '2020-02-12T02:31:05.245Z', 'commentCount': 4, 'likeCount': 34}, {'title': '#圖#地表最肥的柴柴阿肥2', 'createdAt': '2020-02-12T04:55:28.566Z', 'commentCount': 2, 'likeCount': 32}, {'title': '同學 拜託多分享妳家的喵星人😍', 'createdAt': '2020-02-12T07:58:54.964Z', 'commentCount': 6, 'likeCount': 29}, {'title': '‼️卷毛黑妹妹 台中送養‼️', 'createdAt': '2020-02-11T18:46:06.963Z', 'commentCount': 1, 'likeCount': 26}, {'title': '不小心被自己臭到的貓', 'createdAt': '2020-02-12T15:08:20.772Z', 'commentCount': 1, 'likeCount': 25}, {'title': '崩壞的小孩', 'createdAt': '2020-02-11T10:51:19.771Z', 'commentCount': 0, 'likeCount': 25}, {'title': '同學！ 求交出更多的照片！拜託～', 'createdAt': '2020-02-11T11:51:50.248Z', 'commentCount': 1, 'likeCount': 21}, {'title': '#問 肺炎的冠狀病毒有可能傳到寵物身上嗎？', 'createdAt': '2020-02-11T13:51:59.672Z', 'commentCount': 16, 'likeCount': 17}, {'title': '協尋/桃園楊梅/米克斯犬', 'createdAt': '2020-02-11T10:32:49.510Z', 'commentCount': 0, 'likeCount': 17}, {'title': '#圖 我的角蛙們', 'createdAt': '2020-02-11T17:58:14.091Z', 'commentCount': 15, 'likeCount': 15}, {'title': '票選最像的或最可愛的角色吧', 'createdAt': '2020-02-11T18:02:05.348Z', 'commentCount': 10, 'likeCount': 13}, {'title': '協尋鸚鵡', 'createdAt': '2020-02-12T08:40:58.524Z', 'commentCount': 0, 'likeCount': 11}, {'title': '我家的🐔', 'createdAt': '2020-02-12T15:28:34.764Z', 'commentCount': 0, 'likeCount': 10}, {'title': '讓牠們也有搭乘的機會', 'createdAt': '2020-02-12T02:02:46.071Z', 'commentCount': 0, 'likeCount': 10}, {'title': '烏龜換水愛打哈欠（？', 'createdAt': '2020-02-12T11:37:54.360Z', 'commentCount': 2, 'likeCount': 9}, {'title': '開放認養的貓貓', 'createdAt': '2020-02-11T08:35:32.444Z', 'commentCount': 0, 'likeCount': 9}, {'title': '狗狗有在刷牙但嘴巴還是有口臭 怎麼辦QQ', 'createdAt': '2020-02-12T13:11:23.671Z', 'commentCount': 4, 'likeCount': 6}, {'title': '協尋失蹤寵物鳥', 'createdAt': '2020-02-12T11:25:56.164Z', 'commentCount': 0, 'likeCount': 6}, {'title': '#主食罐吃膩⋯求各類罐頭推薦！', 'createdAt': '2020-02-12T09:27:31.265Z', 'commentCount': 3, 'likeCount': 6}, {'title': '你們覺得他可愛?', 'createdAt': '2020-02-12T16:52:14.359Z', 'commentCount': 1, 'likeCount': 5}, {'title': '尋貓啟示（近中原大學）', 'createdAt': '2020-02-12T13:01:57.072Z', 'commentCount': 1, 'likeCount': 5}, {'title': '就像這雙眼它又大又圓', 'createdAt': '2020-02-12T10:31:47.021Z', 'commentCount': 0, 'likeCount': 5}]\n"
     ]
    }
   ],
   "source": [
    "# 2. 取出每一筆資料的「標題」、「貼文時間」、「留言人數」、「按讚人數」\n",
    "\n",
    "#print(data)\n",
    "data_simplified = []\n",
    "for d in data:\n",
    "    post = dict({\"title\": d[\"title\"], \"createdAt\": d[\"createdAt\"], \"commentCount\": d[\"commentCount\"], \"likeCount\": d[\"likeCount\"]})\n",
    "    data_simplified.append(post)\n",
    "    \n",
    "print(data_simplified)"
   ]
  },
  {
   "cell_type": "code",
   "execution_count": 29,
   "metadata": {},
   "outputs": [
    {
     "name": "stdout",
     "output_type": "stream",
     "text": [
      "熱門文章\n",
      "平均留言人數:5.63平均按讚人數:99.53\n",
      "非熱門文章\n",
      "平均留言人數:1.27平均按讚人數:3.87\n"
     ]
    }
   ],
   "source": [
    "# 3. 計算熱門/非熱門文章的「平均留言人數」與「平均按讚人數」\n",
    "\n",
    "def TopicAvgCount(data):\n",
    "    \n",
    "    comment_count = 0\n",
    "    like_count = 0\n",
    "    n_data = len(data)\n",
    "\n",
    "    for d in data:\n",
    "        comment_count += d[\"commentCount\"]\n",
    "        like_count += d[\"likeCount\"]\n",
    "\n",
    "    avg_comment_count = comment_count / n_data\n",
    "    avg_like_count = like_count / n_data\n",
    "    \n",
    "    return (avg_comment_count, avg_like_count)\n",
    "    \n",
    "\n",
    "r = requests.get(\"https://www.dcard.tw/_api/forums/pet/posts?popular=true\")\n",
    "respond = r.text\n",
    "data = json.loads(respond)\n",
    "print(\"熱門文章\\n平均留言人數:{0[0]:.2f}平均按讚人數:{0[1]:.2f}\".format(TopicAvgCount(data)))\n",
    "\n",
    "r = requests.get(\"https://www.dcard.tw/_api/forums/pet/posts?popular=false\")\n",
    "respond = r.text\n",
    "data = json.loads(respond)\n",
    "print(\"非熱門文章\\n平均留言人數:{0[0]:.2f}平均按讚人數:{0[1]:.2f}\".format(TopicAvgCount(data)))"
   ]
  },
  {
   "cell_type": "code",
   "execution_count": null,
   "metadata": {},
   "outputs": [],
   "source": []
  },
  {
   "cell_type": "code",
   "execution_count": null,
   "metadata": {},
   "outputs": [],
   "source": []
  }
 ],
 "metadata": {
  "celltoolbar": "Raw Cell Format",
  "kernelspec": {
   "display_name": "Python 3",
   "language": "python",
   "name": "python3"
  },
  "language_info": {
   "codemirror_mode": {
    "name": "ipython",
    "version": 3
   },
   "file_extension": ".py",
   "mimetype": "text/x-python",
   "name": "python",
   "nbconvert_exporter": "python",
   "pygments_lexer": "ipython3",
   "version": "3.8.1"
  }
 },
 "nbformat": 4,
 "nbformat_minor": 2
}
