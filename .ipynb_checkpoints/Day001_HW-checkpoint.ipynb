{
 "cells": [
  {
   "cell_type": "code",
   "execution_count": 4,
   "metadata": {},
   "outputs": [],
   "source": [
    "from urllib.request import urlretrieve\n",
    "import os"
   ]
  },
  {
   "cell_type": "code",
   "execution_count": 12,
   "metadata": {},
   "outputs": [
    {
     "name": "stdout",
     "output_type": "stream",
     "text": [
      "['Homework.txt']\n"
     ]
    }
   ],
   "source": [
    "try:\n",
    "    os.makedirs( \"./Data\", exist_ok=True )\n",
    "    \n",
    "    urlretrieve(\"https://www.w3.org/TR/PNG/iso_8859-1.txt\", \"./Data/Homework.txt\")\n",
    "    \n",
    "except:\n",
    "    print(\"error!\")"
   ]
  },
  {
   "cell_type": "code",
   "execution_count": 14,
   "metadata": {},
   "outputs": [
    {
     "name": "stdout",
     "output_type": "stream",
     "text": [
      "True, the file Homework.txt is in Data dir\n"
     ]
    }
   ],
   "source": [
    "dirs = os.listdir(\"./Data\")\n",
    "\n",
    "if \"Homework.txt\" in dirs:\n",
    "    print(\"True, the file Homework.txt is in Data dir\")\n",
    "else:\n",
    "    print(\"False, the file Homework.txt is not in Data dir\")"
   ]
  },
  {
   "cell_type": "code",
   "execution_count": 18,
   "metadata": {},
   "outputs": [
    {
     "name": "stdout",
     "output_type": "stream",
     "text": [
      "<_io.TextIOWrapper name='./Data/Homework.txt' mode='r' encoding='cp950'>\n"
     ]
    }
   ],
   "source": [
    "with open(\"./Data/Homework.txt\", \"w\") as f:\n",
    "    seq = \"Hello World\"\n",
    "    f.write(seq)\n",
    "\n",
    "try:\n",
    "    with open(\"./Data/Homework.txt\", \"r\") as f:\n",
    "        f.read()\n",
    "        print(f.read())\n",
    "        \n",
    "except EnvironmentError: # parent of IOError, OSError *and* WindowsError where available\n",
    "    pass    \n",
    "    "
   ]
  },
  {
   "cell_type": "code",
   "execution_count": null,
   "metadata": {},
   "outputs": [],
   "source": []
  }
 ],
 "metadata": {
  "kernelspec": {
   "display_name": "Python 3",
   "language": "python",
   "name": "python3"
  },
  "language_info": {
   "codemirror_mode": {
    "name": "ipython",
    "version": 3
   },
   "file_extension": ".py",
   "mimetype": "text/x-python",
   "name": "python",
   "nbconvert_exporter": "python",
   "pygments_lexer": "ipython3",
   "version": "3.6.5"
  }
 },
 "nbformat": 4,
 "nbformat_minor": 2
}
